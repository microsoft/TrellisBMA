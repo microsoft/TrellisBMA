{
 "cells": [
  {
   "cell_type": "markdown",
   "metadata": {},
   "source": [
    "# Experiment 3"
   ]
  },
  {
   "cell_type": "markdown",
   "metadata": {},
   "source": [
    "Compare error rates on **simulated data** for the following:\n",
    "\n",
    "- No coding (trace reconstruction): BMALA improved vs Trellis BMA without lookahead vs Trellis BMA with lookahead\n",
    "- Coded trace reconstruction: Trellis BMA without lookahead vs Trellis BMA with lookahead"
   ]
  },
  {
   "cell_type": "code",
   "execution_count": 5,
   "metadata": {
    "ExecuteTime": {
     "end_time": "2021-01-23T22:45:25.524118Z",
     "start_time": "2021-01-23T22:45:25.395089Z"
    }
   },
   "outputs": [
    {
     "name": "stdout",
     "output_type": "stream",
     "text": [
      "The autoreload extension is already loaded. To reload it, use:\n",
      "  %reload_ext autoreload\n"
     ]
    }
   ],
   "source": [
    "from helper_functions import *\n",
    "import pandas as pd\n",
    "import numpy as np\n",
    "from scipy.stats import mode\n",
    "\n",
    "from Levenshtein import distance, editops\n",
    "from scipy.stats import mode\n",
    "from tqdm import trange\n",
    "\n",
    "from conv_code import *\n",
    "from coded_ids_multiD import *\n",
    "from bma import *\n",
    "from trellis_bma import *\n",
    "\n",
    "import time\n",
    "\n",
    "import multiprocessing as mp\n",
    "from multiprocessing.pool import ThreadPool as Pool\n",
    "from one_iter import one_iter_rest\n",
    "from itertools import repeat\n",
    "# import seaborn as sns\n",
    "# sns.set()\n",
    "\n",
    "import warnings\n",
    "warnings.filterwarnings(\"ignore\")\n",
    "\n",
    "%load_ext autoreload\n",
    "%autoreload 2"
   ]
  },
  {
   "cell_type": "code",
   "execution_count": null,
   "metadata": {
    "ExecuteTime": {
     "end_time": "2021-01-18T18:31:19.805079Z",
     "start_time": "2021-01-18T18:31:19.748066Z"
    }
   },
   "outputs": [],
   "source": [
    "def make_plot_template(plot_type = \"Hamming rate\", xlim = (0,10), ylim = (0,50), figsize = (6,6)):\n",
    "    import matplotlib \n",
    "    matplotlib.rc('xtick', labelsize=14) \n",
    "    matplotlib.rc('ytick', labelsize=14) \n",
    "    \n",
    "    plt.figure(figsize = figsize)\n",
    "    plt.xlabel(\"Number of traces\",fontsize = 14)\n",
    "    \n",
    "    if plot_type == \"Hamming rate\":\n",
    "        plt.ylabel(\"Normalized Hamming error rate\",fontsize = 14)\n",
    "    \n",
    "    elif plot_type == \"Information rate\":\n",
    "        plt.ylabel(\"Information rate (in bits/base)\",fontsize = 14)\n",
    "    \n",
    "    plt.xlim(xlim)\n",
    "    plt.ylim(ylim)\n",
    "    plt.minorticks_on()\n",
    "    plt.grid(b=True, which='major', linestyle='-')\n",
    "    plt.grid(b=True, which='minor', linestyle='--',linewidth = 0.5)\n",
    "    \n",
    "    \n",
    "\n",
    "def add_plot(data, N, keys, labels, plot_type = \"Hamming rate\", markers = None):\n",
    "    \n",
    "    if markers is None:\n",
    "        markers = [\"*\",\"o\",\"v\",\"^\",\"s\",\"p\",\"<\",\">\",\"1\",\"2\",\"3\",\"4\",\"8\",\"s\",\"p\",\"P\",\".\",\",\",\"h\",\\\n",
    "                   \"H\",\"+\",\"x\",\"X\",\"D\",\"d\",\"|\",\"_\",0,1,2,3,4,5,6,7,8,9,10,11]\n",
    "    \n",
    "    for idx, key in enumerate(keys):\n",
    "        if plot_type == \"Hamming rate\":\n",
    "            plt.plot(data[\"cluster_size\"],data[key].mean(axis=1)/N, label = label[key], linewidth = 2, marker = markers[idx])\n",
    "        elif plot_type == \"Information rate\":\n",
    "            plt.plot(data[\"cluster_size\"],data[key].mean(axis=1), label = label[key], linewidth = 2, marker = markers[idx])\n",
    "    \n",
    "    plt.legend(fontsize = 14)"
   ]
  },
  {
   "cell_type": "markdown",
   "metadata": {},
   "source": [
    "## Uncoded error rates"
   ]
  },
  {
   "cell_type": "code",
   "execution_count": null,
   "metadata": {
    "ExecuteTime": {
     "end_time": "2021-01-18T06:57:10.270516Z",
     "start_time": "2021-01-18T06:57:08.473315Z"
    },
    "scrolled": false
   },
   "outputs": [],
   "source": [
    "in_len = 110\n",
    "N_cw = 110\n",
    "redundancy = N_cw-in_len\n",
    "\n",
    "A_in = 4\n",
    "A_cw = 4\n",
    "\n",
    "cc = conv_code()\n",
    "G = np.array([[1]])\n",
    "cc.quar_cc(G)\n",
    "cc.make_trellis(in_len)\n",
    "# cc.puncture(redundancy=redundancy)\n",
    "# cc.add_coset()\n",
    "# cc.make_encoder()\n",
    "code_trellis_states = cc.trellis_states\n",
    "code_trellis_edges = cc.trellis_edges\n",
    "code_time_type = cc.time_type\n",
    "\n",
    "num_traces = 1\n",
    "p_del = 0.02      \n",
    "p_sub = 0.022\n",
    "p_ins = 0.017\n",
    "max_drift = 6\n",
    "\n",
    "ids_trellis = coded_ids_multiD(A_in, A_cw, code_trellis_states,code_trellis_edges, code_time_type,\\\n",
    "                 num_traces, p_del, p_sub, p_ins, max_drift, input_prior = None)"
   ]
  },
  {
   "cell_type": "markdown",
   "metadata": {},
   "source": [
    "### MultiD"
   ]
  },
  {
   "cell_type": "code",
   "execution_count": null,
   "metadata": {
    "ExecuteTime": {
     "end_time": "2021-01-18T11:22:11.742639Z",
     "start_time": "2021-01-18T06:57:22.163481Z"
    }
   },
   "outputs": [],
   "source": [
    "# Real data\n",
    "max_iters = 1000\n",
    "\n",
    "errors = {}\n",
    "errors[\"desc\"] = \"Experiment comparing error rates and IRs on simulated data without coding. \\n\\\n",
    "Algorithms compared: MultiD bcjr.\\n\\\n",
    "\"\n",
    "\n",
    "errors[\"multiD\"] = []\n",
    "errors[\"multiD_AIRs\"] = []\n",
    "errors[\"multiD_BORs\"] = []\n",
    "errors[\"cluster_size\"] = [2,3]\n",
    "\n",
    "for cluster_size in errors[\"cluster_size\"]:\n",
    "    if cluster_size == 2:\n",
    "        max_drift = 10\n",
    "    elif cluster_size == 3:\n",
    "        max_drift = 6\n",
    "    elif cluster_size == 4:\n",
    "        max_drift = 4\n",
    "    \n",
    "    ids_trellis = coded_ids_multiD(A_in, A_cw, code_trellis_states,code_trellis_edges, code_time_type,\\\n",
    "                     cluster_size, p_del, p_sub, p_ins, max_drift, input_prior = None)\n",
    "\n",
    "    multiD_errors = []\n",
    "    multiD_AIRs = []\n",
    "    multiD_BORs = []\n",
    "    \n",
    "    for it in trange(max_iters):\n",
    "        in_seq = np.random.choice(4,size = in_len)\n",
    "        \n",
    "        tr_list = []\n",
    "        for j in range(cluster_size):\n",
    "            tr_list.append(ids_trellis.simulate_ids(in_seq))\n",
    "            \n",
    "        traces = []\n",
    "        for tr in tr_list:\n",
    "            if np.abs(len(tr)-N_cw) <= max_drift:\n",
    "                traces.append(tr)\n",
    "            elif len(tr) > N_cw:\n",
    "                idx_delete = np.random.choice(len(tr),len(tr)-N_cw-max_drift, replace = False)\n",
    "                traces.append(np.delete(tr,idx_delete))\n",
    "            else:\n",
    "                idx_insert = np.random.choice(len(tr),N_cw-max_drift-len(tr), replace = False)\n",
    "                traces.append(np.insert(tr,idx_insert,0))\n",
    "                \n",
    "        post_probs = ids_trellis.bcjr(traces,cc.trellis_states[0][0],cc.trellis_states[-1])\n",
    "        multiD_estimate = post_probs.argmax(axis=1)\n",
    "        multiD_errors.append((multiD_estimate != in_seq).sum())\n",
    "        \n",
    "        logp_y = ids_trellis.logp_y * 1.0\n",
    "        P = np.zeros((in_len,4))\n",
    "        P[np.arange(in_len),in_seq] = 1\n",
    "        ids_trellis.bcjr(traces,cc.trellis_states[0][0],cc.trellis_states[-1], input_prior = P)\n",
    "        logp_ylx = ids_trellis.logp_y * 1.0\n",
    "        \n",
    "        if (logp_ylx-logp_y)/in_len == -np.inf:\n",
    "            raise ValueError(\"Infinity\")\n",
    "        \n",
    "        multiD_AIRs.append((logp_ylx-logp_y)/in_len)\n",
    "        multiD_BORs.append(BCJROR(post_probs, in_seq))\n",
    "        \n",
    "        \n",
    "    errors[\"multiD\"].append(np.array(multiD_errors))\n",
    "    errors[\"multiD_AIRs\"].append(np.array(multiD_AIRs))\n",
    "    errors[\"multiD_BORs\"].append(np.array(multiD_BORs))\n",
    "    \n",
    "    print(\"MultiD error rate for a cluster size: \",cluster_size,\"is \",np.array(multiD_errors).mean())\n",
    "    print(\"MultiD AIRs for a cluster size: \",cluster_size,\"is \",np.array(multiD_AIRs).mean())\n",
    "    print(\"MultiD BORs for a cluster size: \",cluster_size,\"is \",np.array(multiD_BORs).mean())\n",
    "    \n",
    "    time.sleep(0.5)\n",
    "\n",
    "errors[\"multiD\"] = np.array(errors[\"multiD\"])\n",
    "errors[\"multiD_AIRs\"] = np.array(errors[\"multiD_AIRs\"])\n",
    "errors[\"multiD_BORs\"] = np.array(errors[\"multiD_BORs\"])\n",
    "\n",
    "np.save(\"SavedData/sim_uncoded_multiD.npy\",errors)"
   ]
  },
  {
   "cell_type": "markdown",
   "metadata": {},
   "source": [
    "### Trellis BMA and others"
   ]
  },
  {
   "cell_type": "code",
   "execution_count": 9,
   "metadata": {
    "ExecuteTime": {
     "end_time": "2021-01-23T23:55:23.088905Z",
     "start_time": "2021-01-23T23:55:19.678801Z"
    }
   },
   "outputs": [],
   "source": [
    "in_len = 110\n",
    "N_cw = 110\n",
    "redundancy = N_cw-in_len\n",
    "\n",
    "A_in = 4\n",
    "A_cw = 4\n",
    "\n",
    "cc = conv_code()\n",
    "G = np.array([[1]])\n",
    "cc.quar_cc(G)\n",
    "cc.make_trellis(in_len)\n",
    "# cc.puncture(redundancy=redundancy)\n",
    "# cc.add_coset()\n",
    "# cc.make_encoder()\n",
    "code_trellis_states = cc.trellis_states\n",
    "code_trellis_edges = cc.trellis_edges\n",
    "code_time_type = cc.time_type\n",
    "\n",
    "num_traces = 1\n",
    "p_del = 0.02      \n",
    "p_sub = 0.022\n",
    "p_ins = 0.017\n",
    "max_drift = 15\n",
    "\n",
    "ids_trellis = coded_ids_multiD(A_in, A_cw, code_trellis_states,code_trellis_edges, code_time_type,\\\n",
    "                 num_traces, p_del, p_sub, p_ins, max_drift, input_prior = None)"
   ]
  },
  {
   "cell_type": "code",
   "execution_count": 10,
   "metadata": {
    "ExecuteTime": {
     "end_time": "2021-01-24T00:02:05.002346Z",
     "start_time": "2021-01-23T23:55:30.819577Z"
    }
   },
   "outputs": [
    {
     "name": "stderr",
     "output_type": "stream",
     "text": [
      "100%|████████████████████████████████████████████████████████████████████████████████| 100/100 [00:54<00:00,  1.83it/s]\n"
     ]
    },
    {
     "name": "stdout",
     "output_type": "stream",
     "text": [
      "BMA error rate for a cluster size:  2 is  42.31\n",
      "Post multiply error rate for a cluster size:  2 is  32.13\n",
      "Post multiply BORs for a cluster size:  2 is  1.0372628776986614\n",
      "Trellis BMA (with LA) error rate for a cluster size: 2 is  41.61\n",
      "Trellis BMA (with LA) BORs for a cluster size: 2 is  -0.7764993716583867\n"
     ]
    },
    {
     "name": "stderr",
     "output_type": "stream",
     "text": [
      "100%|████████████████████████████████████████████████████████████████████████████████| 100/100 [01:19<00:00,  1.25it/s]\n"
     ]
    },
    {
     "name": "stdout",
     "output_type": "stream",
     "text": [
      "BMA error rate for a cluster size:  3 is  26.07\n",
      "Post multiply error rate for a cluster size:  3 is  31.63\n",
      "Post multiply BORs for a cluster size:  3 is  0.9852509824288205\n",
      "Trellis BMA (with LA) error rate for a cluster size: 3 is  14.68\n",
      "Trellis BMA (with LA) BORs for a cluster size: 3 is  0.376105821325359\n"
     ]
    },
    {
     "name": "stderr",
     "output_type": "stream",
     "text": [
      "100%|████████████████████████████████████████████████████████████████████████████████| 100/100 [04:18<00:00,  2.58s/it]\n"
     ]
    },
    {
     "name": "stdout",
     "output_type": "stream",
     "text": [
      "BMA error rate for a cluster size:  10 is  0.59\n",
      "Post multiply error rate for a cluster size:  10 is  25.32\n",
      "Post multiply BORs for a cluster size:  10 is  0.6093447735310888\n",
      "Trellis BMA (with LA) error rate for a cluster size: 10 is  0.0\n",
      "Trellis BMA (with LA) BORs for a cluster size: 10 is  1.9998406321886992\n"
     ]
    }
   ],
   "source": [
    "max_iters = 100\n",
    "\n",
    "errors = {}\n",
    "errors[\"desc\"] = \"Experiment comparing error rates and IRs on simulated data without coding. \\n\\\n",
    "Algorithms compared: Improved BMALA, Post multiply, Trellis BMA no look-ahead, Trellis BMA with look-ahead.\\n\\\n",
    "\"\n",
    "\n",
    "errors[\"bma\"] = []\n",
    "errors[\"post_mul\"] = []\n",
    "errors[\"BOR_post_mul\"] = []\n",
    "errors[\"Tbma_noLA\"] = []\n",
    "errors[\"Tbma_LA\"] = []\n",
    "errors[\"BOR_Tbma_noLA\"] = []\n",
    "errors[\"BOR_Tbma_LA\"] = []\n",
    "errors[\"cluster_size\"] = [2,3,10]\n",
    "\n",
    "for cluster_size in errors[\"cluster_size\"]:\n",
    "    bma_errors = []\n",
    "    post_mul_errors = []\n",
    "    post_mul_BORs = []\n",
    "    Tbma_noLA_errors = []\n",
    "    Tbma_LA_errors = []\n",
    "    Tbma_noLA_BORs = []\n",
    "    Tbma_LA_BORs = []\n",
    "    \n",
    "    for it in trange(max_iters):\n",
    "#         if len(traces_list[it]) == 0:\n",
    "#             print(\"Encountered empty cluster, ignored it.\")\n",
    "        \n",
    "        in_seq = np.random.choice(4,size = in_len)\n",
    "        \n",
    "        tr_list = []\n",
    "        for j in range(cluster_size):\n",
    "            tr_list.append(ids_trellis.simulate_ids(in_seq))\n",
    "            \n",
    "        traces = []\n",
    "        for tr in tr_list:\n",
    "            if np.abs(len(tr)-N_cw) <= max_drift:\n",
    "                traces.append(tr)\n",
    "            elif len(tr) > N_cw:\n",
    "                idx_delete = np.random.choice(len(tr),len(tr)-N_cw-max_drift, replace = False)\n",
    "                traces.append(np.delete(tr,idx_delete))\n",
    "            else:\n",
    "                idx_insert = np.random.choice(len(tr),N_cw-max_drift-len(tr), replace = False)\n",
    "                traces.append(np.insert(tr,idx_insert,0))\n",
    "        \n",
    "        bma_estimate = bmala_imp(N_cw,tr_list,2)\n",
    "        \n",
    "        post_mul_estimate, post_mul_probs = post_multiply(ids_trellis,traces,cc.trellis_states[0][0],\\\n",
    "                                                 cc.trellis_states[-1])\n",
    "        \n",
    "#         Tbma_noLA_estimate, Tbma_noLA_probs = trellis_bma(ids_trellis,traces,cc.trellis_states[0][0],\\\n",
    "#                                                  cc.trellis_states[-1],lookahead = False)\n",
    "        Tbma_LA_estimate, Tbma_LA_probs = trellis_bma(ids_trellis,traces,cc.trellis_states[0][0],\\\n",
    "                                                 cc.trellis_states[-1],lookahead = True)\n",
    "        \n",
    "        bma_errors.append((in_seq != bma_estimate).sum())\n",
    "        \n",
    "        post_mul_errors.append((in_seq != post_mul_estimate).sum())\n",
    "        post_mul_BORs.append(BCJROR(post_mul_probs,in_seq))\n",
    "        \n",
    "#         Tbma_noLA_errors.append((in_seq != Tbma_noLA_estimate).sum())\n",
    "        Tbma_LA_errors.append((in_seq != Tbma_LA_estimate).sum())\n",
    "#         Tbma_noLA_BORs.append(BCJROR(Tbma_noLA_probs, in_seq))\n",
    "        Tbma_LA_BORs.append(BCJROR(Tbma_LA_probs, in_seq))\n",
    "\n",
    "    errors[\"bma\"].append(np.array(bma_errors))\n",
    "    errors[\"post_mul\"].append(np.array(post_mul_errors))\n",
    "    errors[\"BOR_post_mul\"].append(np.array(post_mul_BORs))\n",
    "#     errors[\"Tbma_noLA\"].append(np.array(Tbma_noLA_errors))\n",
    "    errors[\"Tbma_LA\"].append(np.array(Tbma_LA_errors))\n",
    "#     errors[\"BOR_Tbma_noLA\"].append(np.array(Tbma_noLA_BORs))\n",
    "    errors[\"BOR_Tbma_LA\"].append(np.array(Tbma_LA_BORs))\n",
    "    \n",
    "    print(\"BMA error rate for a cluster size: \",cluster_size,\"is \",np.array(bma_errors).mean())\n",
    "    print(\"Post multiply error rate for a cluster size: \",cluster_size,\"is \",np.array(post_mul_errors).mean())\n",
    "    print(\"Post multiply BORs for a cluster size: \",cluster_size,\"is \",np.array(post_mul_BORs).mean())\n",
    "#     print(\"Trellis BMA (no LA) error rate for a cluster size: \",cluster_size,\"is \",np.array(Tbma_noLA_errors).mean())\n",
    "    print(\"Trellis BMA (with LA) error rate for a cluster size:\",cluster_size,\"is \",np.array(Tbma_LA_errors).mean())\n",
    "#     print(\"Trellis BMA (no LA) BORs for a cluster size: \",cluster_size,\"is \",np.array(Tbma_noLA_BORs).mean())\n",
    "    print(\"Trellis BMA (with LA) BORs for a cluster size:\",cluster_size,\"is \",np.array(Tbma_LA_BORs).mean())\n",
    "    \n",
    "    time.sleep(0.5)\n",
    "\n",
    "errors[\"bma\"] = np.array(errors[\"bma\"])\n",
    "errors[\"post_mul\"] = np.array(errors[\"post_mul\"])\n",
    "errors[\"BOR_post_mul\"] = np.array(errors[\"BOR_post_mul\"])\n",
    "errors[\"Tbma_noLA\"] = np.array(errors[\"Tbma_noLA\"])\n",
    "errors[\"Tbma_LA\"] = np.array(errors[\"Tbma_LA\"])\n",
    "errors[\"BOR_Tbma_noLA\"] = np.array(errors[\"BOR_Tbma_noLA\"])\n",
    "errors[\"BOR_Tbma_LA\"] = np.array(errors[\"BOR_Tbma_LA\"])\n",
    "\n",
    "# np.save(\"SavedData/sim_uncoded_rest.npy\",errors)"
   ]
  },
  {
   "cell_type": "code",
   "execution_count": null,
   "metadata": {
    "ExecuteTime": {
     "end_time": "2021-01-21T07:37:56.753701Z",
     "start_time": "2021-01-21T07:34:42.376009Z"
    }
   },
   "outputs": [],
   "source": [
    "max_iters = 50\n",
    "\n",
    "errors = {}\n",
    "errors[\"desc\"] = \"Experiment comparing error rates and IRs on simulated data without coding. \\n\\\n",
    "Algorithms compared: Improved BMALA, Post multiply, Trellis BMA no look-ahead, Trellis BMA with look-ahead.\\n\\\n",
    "\"\n",
    "\n",
    "errors[\"bma\"] = []\n",
    "errors[\"post_mul\"] = []\n",
    "errors[\"BOR_post_mul\"] = []\n",
    "errors[\"Tbma_noLA\"] = []\n",
    "errors[\"Tbma_LA\"] = []\n",
    "errors[\"BOR_Tbma_noLA\"] = []\n",
    "errors[\"BOR_Tbma_LA\"] = []\n",
    "errors[\"cluster_size\"] = [2,3,10]\n",
    "\n",
    "for cluster_size in errors[\"cluster_size\"]:\n",
    "    bma_errors = []\n",
    "    post_mul_errors = []\n",
    "    post_mul_BORs = []\n",
    "    Tbma_noLA_errors = []\n",
    "    Tbma_LA_errors = []\n",
    "    Tbma_noLA_BORs = []\n",
    "    Tbma_LA_BORs = []\n",
    "    \n",
    "    for it in trange(max_iters):\n",
    "#         if len(traces_list[it]) == 0:\n",
    "#             print(\"Encountered empty cluster, ignored it.\")\n",
    "        \n",
    "        in_seq = np.random.choice(4,size = in_len)\n",
    "        \n",
    "        tr_list = []\n",
    "        for j in range(cluster_size):\n",
    "            tr_list.append(ids_trellis.simulate_ids(in_seq))\n",
    "            \n",
    "        traces = []\n",
    "        for tr in tr_list:\n",
    "            if np.abs(len(tr)-N_cw) <= max_drift:\n",
    "                traces.append(tr)\n",
    "            elif len(tr) > N_cw:\n",
    "                idx_delete = np.random.choice(len(tr),len(tr)-N_cw-max_drift, replace = False)\n",
    "                traces.append(np.delete(tr,idx_delete))\n",
    "            else:\n",
    "                idx_insert = np.random.choice(len(tr),N_cw-max_drift-len(tr), replace = False)\n",
    "                traces.append(np.insert(tr,idx_insert,0))\n",
    "        \n",
    "        bma_estimate = bmala_imp(N_cw,tr_list,2)\n",
    "        \n",
    "        post_mul_estimate, post_mul_probs = post_multiply(ids_trellis,traces,cc.trellis_states[0][0],\\\n",
    "                                                 cc.trellis_states[-1])\n",
    "        \n",
    "        Tbma_noLA_estimate, Tbma_noLA_probs = trellis_bma(ids_trellis,traces,cc.trellis_states[0][0],\\\n",
    "                                                 cc.trellis_states[-1],lookahead = False)\n",
    "        Tbma_LA_estimate, Tbma_LA_probs = trellis_bma(ids_trellis,traces,cc.trellis_states[0][0],\\\n",
    "                                                 cc.trellis_states[-1],lookahead = True)\n",
    "        \n",
    "        bma_errors.append((in_seq != bma_estimate).sum())\n",
    "        \n",
    "        post_mul_errors.append((in_seq != post_mul_estimate).sum())\n",
    "        post_mul_BORs.append(BCJROR(post_mul_probs,in_seq))\n",
    "        \n",
    "        Tbma_noLA_errors.append((in_seq != Tbma_noLA_estimate).sum())\n",
    "        Tbma_LA_errors.append((in_seq != Tbma_LA_estimate).sum())\n",
    "        Tbma_noLA_BORs.append(BCJROR(Tbma_noLA_probs, in_seq))\n",
    "        Tbma_LA_BORs.append(BCJROR(Tbma_LA_probs, in_seq))\n",
    "\n",
    "    errors[\"bma\"].append(np.array(bma_errors))\n",
    "    errors[\"post_mul\"].append(np.array(post_mul_errors))\n",
    "    errors[\"BOR_post_mul\"].append(np.array(post_mul_BORs))\n",
    "    errors[\"Tbma_noLA\"].append(np.array(Tbma_noLA_errors))\n",
    "    errors[\"Tbma_LA\"].append(np.array(Tbma_LA_errors))\n",
    "    errors[\"BOR_Tbma_noLA\"].append(np.array(Tbma_noLA_BORs))\n",
    "    errors[\"BOR_Tbma_LA\"].append(np.array(Tbma_LA_BORs))\n",
    "    \n",
    "    print(\"BMA error rate for a cluster size: \",cluster_size,\"is \",np.array(bma_errors).mean())\n",
    "    print(\"Post multiply error rate for a cluster size: \",cluster_size,\"is \",np.array(post_mul_errors).mean())\n",
    "    print(\"Post multiply BORs for a cluster size: \",cluster_size,\"is \",np.array(post_mul_BORs).mean())\n",
    "    print(\"Trellis BMA (no LA) error rate for a cluster size: \",cluster_size,\"is \",np.array(Tbma_noLA_errors).mean())\n",
    "    print(\"Trellis BMA (with LA) error rate for a cluster size:\",cluster_size,\"is \",np.array(Tbma_LA_errors).mean())\n",
    "    print(\"Trellis BMA (no LA) BORs for a cluster size: \",cluster_size,\"is \",np.array(Tbma_noLA_BORs).mean())\n",
    "    print(\"Trellis BMA (with LA) BORs for a cluster size:\",cluster_size,\"is \",np.array(Tbma_LA_BORs).mean())\n",
    "    \n",
    "    time.sleep(0.5)\n",
    "\n",
    "errors[\"bma\"] = np.array(errors[\"bma\"])\n",
    "errors[\"post_mul\"] = np.array(errors[\"post_mul\"])\n",
    "errors[\"BOR_post_mul\"] = np.array(errors[\"BOR_post_mul\"])\n",
    "errors[\"Tbma_noLA\"] = np.array(errors[\"Tbma_noLA\"])\n",
    "errors[\"Tbma_LA\"] = np.array(errors[\"Tbma_LA\"])\n",
    "errors[\"BOR_Tbma_noLA\"] = np.array(errors[\"BOR_Tbma_noLA\"])\n",
    "errors[\"BOR_Tbma_LA\"] = np.array(errors[\"BOR_Tbma_LA\"])\n",
    "\n",
    "# np.save(\"SavedData/sim_uncoded_rest.npy\",errors)"
   ]
  },
  {
   "cell_type": "code",
   "execution_count": null,
   "metadata": {
    "ExecuteTime": {
     "end_time": "2021-01-20T18:18:54.799393Z",
     "start_time": "2021-01-20T18:18:54.720376Z"
    }
   },
   "outputs": [],
   "source": [
    "errors_multiD = np.load(\"SavedData/sim_uncoded_multiD.npy\",allow_pickle = True).item()\n",
    "errors_rest = np.load(\"SavedData/sim_uncoded_rest.npy\",allow_pickle = True).item()"
   ]
  },
  {
   "cell_type": "code",
   "execution_count": null,
   "metadata": {
    "ExecuteTime": {
     "end_time": "2021-01-20T18:20:15.938990Z",
     "start_time": "2021-01-20T18:20:15.492311Z"
    }
   },
   "outputs": [],
   "source": [
    "import tikzplotlib\n",
    "\n",
    "make_plot_template(plot_type = \"Information rate\", xlim = (1.5,10.5), ylim = (0,2.1))\n",
    "\n",
    "keys = [\"multiD_AIRs\", \"multiD_BORs\"]\n",
    "label = {}\n",
    "label[\"multiD_AIRs\"] = \"AIRs for multiD\"\n",
    "label[\"multiD_BORs\"] = \"BCJR-OR for multiD\"\n",
    "add_plot(errors_multiD, 110, keys,  label, \"Information rate\")\n",
    "\n",
    "keys = [\"BOR_Tbma_LA\", \"BOR_Tbma_noLA\",\"BOR_post_mul\"]\n",
    "label = {}\n",
    "label[\"BOR_Tbma_noLA\"] = \"BCJR-OR Trellis BMA (no LA)\"\n",
    "label[\"BOR_Tbma_LA\"] = \"BCJR-OR Trellis BMA (LA)\"\n",
    "label[\"BOR_post_mul\"] = \"BCJR-OR Multiply posteriors\"\n",
    "add_plot(errors_rest, 110, keys, label, \"Information rate\")\n",
    "\n",
    "keys = [\"BOR_post_mul\"]\n",
    "add_plot(errors, 110, keys, label, \"Information rate\")\n",
    "\n",
    "# tikzplotlib.save(\"Plots/sim_uncoded_IRs.tex\")"
   ]
  },
  {
   "cell_type": "code",
   "execution_count": null,
   "metadata": {
    "ExecuteTime": {
     "end_time": "2021-01-20T18:20:27.697780Z",
     "start_time": "2021-01-20T18:20:27.303475Z"
    }
   },
   "outputs": [],
   "source": [
    "make_plot_template(plot_type = \"Hamming rate\", xlim = (1,11), ylim = (0,0.4))\n",
    "\n",
    "keys = [\"multiD\"]\n",
    "label = {}\n",
    "label[\"multiD\"] = \"AIRs for multiD\"\n",
    "add_plot(errors_multiD, 110, keys,  label, \"Hamming rate\")\n",
    "\n",
    "\n",
    "keys = [\"bma\",\"Tbma_LA\", \"Tbma_noLA\",\"post_mul\"]\n",
    "label = {}\n",
    "label[\"bma\"] = \"BMALA Improved\"\n",
    "label[\"Tbma_noLA\"] = \"Trellis BMA (no LA)\"\n",
    "label[\"Tbma_LA\"] = \"Trellis BMA (LA)\"\n",
    "label[\"post_mul\"] = \"Multiply posteriors\"\n",
    "add_plot(errors_rest, 110, keys,  label, \"Hamming rate\")\n",
    "\n",
    "keys = [\"post_mul\"]\n",
    "add_plot(errors, 110, keys, label, \"Hamming rate\")\n",
    "\n",
    "tikzplotlib.save(\"Plots/sim_uncoded.tex\")"
   ]
  },
  {
   "cell_type": "markdown",
   "metadata": {},
   "source": [
    "## Coded error rates"
   ]
  },
  {
   "cell_type": "code",
   "execution_count": null,
   "metadata": {
    "ExecuteTime": {
     "end_time": "2021-01-19T00:54:39.886663Z",
     "start_time": "2021-01-19T00:54:37.547134Z"
    },
    "scrolled": false
   },
   "outputs": [],
   "source": [
    "in_len = 55\n",
    "N_cw = 110\n",
    "redundancy = N_cw-in_len\n",
    "\n",
    "A_in = 4\n",
    "A_cw = 4\n",
    "\n",
    "cc = conv_code()\n",
    "G = np.array([[1,1,1],[1,2,1]])\n",
    "cc.quar_cc(G)\n",
    "cc.make_trellis(in_len)\n",
    "cc.puncture(redundancy=redundancy)\n",
    "cc.add_coset()\n",
    "cc.make_encoder()\n",
    "code_trellis_states = cc.trellis_states\n",
    "code_trellis_edges = cc.trellis_edges\n",
    "code_time_type = cc.time_type\n",
    "\n",
    "num_traces = 1\n",
    "p_del = 0.02      \n",
    "p_sub = 0.022\n",
    "p_ins = 0.017\n",
    "max_drift = 6\n",
    "\n",
    "ids_trellis = coded_ids_multiD(A_in, A_cw, code_trellis_states,code_trellis_edges, code_time_type,\\\n",
    "                 num_traces, p_del, p_sub, p_ins, max_drift, input_prior = None)"
   ]
  },
  {
   "cell_type": "markdown",
   "metadata": {},
   "source": [
    "### MultiD"
   ]
  },
  {
   "cell_type": "code",
   "execution_count": null,
   "metadata": {
    "ExecuteTime": {
     "end_time": "2021-01-19T06:52:47.024316Z",
     "start_time": "2021-01-19T00:54:42.758312Z"
    },
    "scrolled": true
   },
   "outputs": [],
   "source": [
    "# Real data\n",
    "max_iters = 1000\n",
    "\n",
    "errors = {}\n",
    "errors[\"desc\"] = \"Experiment comparing error rates and IRs on simulated data without coding. \\n\\\n",
    "Algorithms compared: MultiD bcjr.\\n\\\n",
    "\"\n",
    "\n",
    "errors[\"multiD\"] = []\n",
    "errors[\"multiD_AIRs\"] = []\n",
    "errors[\"multiD_BORs\"] = []\n",
    "errors[\"cluster_size\"] = [2,3]\n",
    "\n",
    "for cluster_size in errors[\"cluster_size\"]:\n",
    "    if cluster_size == 2:\n",
    "        max_drift = 10\n",
    "    elif cluster_size == 3:\n",
    "        max_drift = 6\n",
    "    elif cluster_size == 4:\n",
    "        max_drift = 4\n",
    "    \n",
    "    ids_trellis = coded_ids_multiD(A_in, A_cw, code_trellis_states,code_trellis_edges, code_time_type,\\\n",
    "                     cluster_size, p_del, p_sub, p_ins, max_drift, input_prior = None)\n",
    "\n",
    "    multiD_errors = []\n",
    "    multiD_AIRs = []\n",
    "    multiD_BORs = []\n",
    "    \n",
    "    for it in trange(max_iters):\n",
    "        in_seq = np.random.choice(4,size = in_len)\n",
    "        coded_seq = cc.encode(in_seq)\n",
    "        \n",
    "        tr_list = []\n",
    "        for j in range(cluster_size):\n",
    "            tr_list.append(ids_trellis.simulate_ids(coded_seq))\n",
    "            \n",
    "        traces = []\n",
    "        for tr in tr_list:\n",
    "            if np.abs(len(tr)-N_cw) <= max_drift:\n",
    "                traces.append(tr)\n",
    "            elif len(tr) > N_cw:\n",
    "                idx_delete = np.random.choice(len(tr),len(tr)-N_cw-max_drift, replace = False)\n",
    "                traces.append(np.delete(tr,idx_delete))\n",
    "            else:\n",
    "                idx_insert = np.random.choice(len(tr),N_cw-max_drift-len(tr), replace = False)\n",
    "                traces.append(np.insert(tr,idx_insert,0))\n",
    "                \n",
    "        post_probs = ids_trellis.bcjr(traces,cc.trellis_states[0][0],cc.trellis_states[-1])\n",
    "        multiD_estimate = post_probs.argmax(axis=1)\n",
    "        multiD_errors.append((multiD_estimate != in_seq).sum())\n",
    "        \n",
    "        logp_y = ids_trellis.logp_y * 1.0\n",
    "        P = np.zeros((in_len,4))\n",
    "        P[np.arange(in_len),in_seq] = 1\n",
    "        ids_trellis.bcjr(traces,cc.trellis_states[0][0],cc.trellis_states[-1], input_prior = P)\n",
    "        logp_ylx = ids_trellis.logp_y * 1.0\n",
    "        \n",
    "        if (logp_ylx-logp_y)/in_len == -np.inf:\n",
    "            raise ValueError(\"Infinity\")\n",
    "        \n",
    "        multiD_AIRs.append((logp_ylx-logp_y)/in_len)\n",
    "        multiD_BORs.append(BCJROR(post_probs, in_seq))\n",
    "        \n",
    "        \n",
    "    errors[\"multiD\"].append(np.array(multiD_errors))\n",
    "    errors[\"multiD_AIRs\"].append(np.array(multiD_AIRs))\n",
    "    errors[\"multiD_BORs\"].append(np.array(multiD_BORs))\n",
    "    \n",
    "    print(\"MultiD error rate for a cluster size: \",cluster_size,\"is \",np.array(multiD_errors).mean())\n",
    "    print(\"MultiD AIRs for a cluster size: \",cluster_size,\"is \",np.array(multiD_AIRs).mean())\n",
    "    print(\"MultiD BORs for a cluster size: \",cluster_size,\"is \",np.array(multiD_BORs).mean())\n",
    "    \n",
    "    time.sleep(0.5)\n",
    "\n",
    "errors[\"multiD\"] = np.array(errors[\"multiD\"])\n",
    "errors[\"multiD_AIRs\"] = np.array(errors[\"multiD_AIRs\"])\n",
    "errors[\"multiD_BORs\"] = np.array(errors[\"multiD_BORs\"])\n",
    "\n",
    "np.save(\"SavedData/sim_10coded_multiD.npy\",errors)"
   ]
  },
  {
   "cell_type": "markdown",
   "metadata": {},
   "source": [
    "### Trellis BMA and others"
   ]
  },
  {
   "cell_type": "code",
   "execution_count": 6,
   "metadata": {
    "ExecuteTime": {
     "end_time": "2021-01-23T22:47:21.581085Z",
     "start_time": "2021-01-23T22:47:17.934245Z"
    }
   },
   "outputs": [],
   "source": [
    "in_len = 100\n",
    "N_cw = 110\n",
    "redundancy = N_cw-in_len\n",
    "\n",
    "A_in = 4\n",
    "A_cw = 4\n",
    "\n",
    "cc = conv_code()\n",
    "G = np.array([[1],[1]])\n",
    "cc.quar_cc(G)\n",
    "cc.make_trellis(in_len)\n",
    "cc.puncture(redundancy=redundancy)\n",
    "cc.add_coset()\n",
    "cc.make_encoder()\n",
    "code_trellis_states = cc.trellis_states\n",
    "code_trellis_edges = cc.trellis_edges\n",
    "code_time_type = cc.time_type\n",
    "\n",
    "num_traces = 1\n",
    "p_del = 0.02      \n",
    "p_sub = 0.022\n",
    "p_ins = 0.017\n",
    "max_drift = 15\n",
    "\n",
    "ids_trellis = coded_ids_multiD(A_in, A_cw, code_trellis_states,code_trellis_edges, code_time_type,\\\n",
    "                 num_traces, p_del, p_sub, p_ins, max_drift, input_prior = None)"
   ]
  },
  {
   "cell_type": "code",
   "execution_count": 8,
   "metadata": {
    "ExecuteTime": {
     "end_time": "2021-01-23T23:44:00.843520Z",
     "start_time": "2021-01-23T23:00:07.461320Z"
    }
   },
   "outputs": [
    {
     "name": "stderr",
     "output_type": "stream",
     "text": [
      "100%|████████████████████████████████████████████████████████████████████████████████| 500/500 [04:16<00:00,  1.95it/s]\n"
     ]
    },
    {
     "name": "stdout",
     "output_type": "stream",
     "text": [
      "Post multiply error rate for a cluster size:  2 is  8.814\n",
      "Post multiply BORs for a cluster size:  2 is  1.6660736201776645\n",
      "Trellis BMA (with LA) error rate for a cluster size: 2 is  8.84\n",
      "Trellis BMA (with LA) BORs for a cluster size: 2 is  1.5243942879385026\n"
     ]
    },
    {
     "name": "stderr",
     "output_type": "stream",
     "text": [
      "100%|████████████████████████████████████████████████████████████████████████████████| 500/500 [06:20<00:00,  1.32it/s]\n"
     ]
    },
    {
     "name": "stdout",
     "output_type": "stream",
     "text": [
      "Post multiply error rate for a cluster size:  3 is  5.426\n",
      "Post multiply BORs for a cluster size:  3 is  1.7881638707134497\n",
      "Trellis BMA (with LA) error rate for a cluster size: 3 is  3.244\n",
      "Trellis BMA (with LA) BORs for a cluster size: 3 is  1.7234379130042141\n"
     ]
    },
    {
     "name": "stderr",
     "output_type": "stream",
     "text": [
      "100%|████████████████████████████████████████████████████████████████████████████████| 500/500 [12:29<00:00,  1.50s/it]\n"
     ]
    },
    {
     "name": "stdout",
     "output_type": "stream",
     "text": [
      "Post multiply error rate for a cluster size:  6 is  2.22\n",
      "Post multiply BORs for a cluster size:  6 is  1.9026512895715153\n",
      "Trellis BMA (with LA) error rate for a cluster size: 6 is  0.326\n",
      "Trellis BMA (with LA) BORs for a cluster size: 6 is  1.9431147124310324\n"
     ]
    },
    {
     "name": "stderr",
     "output_type": "stream",
     "text": [
      "100%|████████████████████████████████████████████████████████████████████████████████| 500/500 [20:45<00:00,  2.49s/it]\n"
     ]
    },
    {
     "name": "stdout",
     "output_type": "stream",
     "text": [
      "Post multiply error rate for a cluster size:  10 is  0.892\n",
      "Post multiply BORs for a cluster size:  10 is  1.9571771638867526\n",
      "Trellis BMA (with LA) error rate for a cluster size: 10 is  0.016\n",
      "Trellis BMA (with LA) BORs for a cluster size: 10 is  1.9963860131899394\n"
     ]
    }
   ],
   "source": [
    "max_iters = 500\n",
    "\n",
    "errors = {}\n",
    "errors[\"desc\"] = \"Experiment comparing error rates and IRs on simulated data without coding. \\n\\\n",
    "Algorithms compared: Improved BMALA, Post multiply, Trellis BMA no look-ahead, Trellis BMA with look-ahead.\\n\\\n",
    "\"\n",
    "\n",
    "# errors[\"bma\"] = []\n",
    "errors[\"post_mul\"] = []\n",
    "errors[\"BOR_post_mul\"] = []\n",
    "errors[\"Tbma_noLA\"] = []\n",
    "errors[\"Tbma_LA\"] = []\n",
    "errors[\"BOR_Tbma_noLA\"] = []\n",
    "errors[\"BOR_Tbma_LA\"] = []\n",
    "errors[\"cluster_size\"] = [2,3,6,10]\n",
    "\n",
    "for cluster_size in errors[\"cluster_size\"]:\n",
    "    bma_errors = []\n",
    "    post_mul_errors = []\n",
    "    post_mul_BORs = []\n",
    "    Tbma_noLA_errors = []\n",
    "    Tbma_LA_errors = []\n",
    "    Tbma_noLA_BORs = []\n",
    "    Tbma_LA_BORs = []\n",
    "    \n",
    "    for it in trange(max_iters):\n",
    "#         if len(traces_list[it]) == 0:\n",
    "#             print(\"Encountered empty cluster, ignored it.\")\n",
    "        \n",
    "        in_seq = np.random.choice(4,size = in_len)\n",
    "        coded_seq = cc.encode(in_seq)\n",
    "        \n",
    "        tr_list = []\n",
    "        for j in range(cluster_size):\n",
    "            tr_list.append(ids_trellis.simulate_ids(coded_seq))\n",
    "            \n",
    "        traces = []\n",
    "        for tr in tr_list:\n",
    "            if np.abs(len(tr)-N_cw) <= max_drift:\n",
    "                traces.append(tr)\n",
    "            elif len(tr) > N_cw:\n",
    "                idx_delete = np.random.choice(len(tr),len(tr)-N_cw-max_drift, replace = False)\n",
    "                traces.append(np.delete(tr,idx_delete))\n",
    "            else:\n",
    "                idx_insert = np.random.choice(len(tr),N_cw-max_drift-len(tr), replace = False)\n",
    "                traces.append(np.insert(tr,idx_insert,0))\n",
    "        \n",
    "#         bma_estimate = bmala_imp(N_cw,tr_list,2)\n",
    "        \n",
    "        post_mul_estimate, post_mul_probs = post_multiply(ids_trellis,traces,cc.trellis_states[0][0],\\\n",
    "                                                 cc.trellis_states[-1])\n",
    "        \n",
    "#         Tbma_noLA_estimate, Tbma_noLA_probs = trellis_bma(ids_trellis,traces,cc.trellis_states[0][0],\\\n",
    "#                                                  cc.trellis_states[-1],lookahead = False)\n",
    "        Tbma_LA_estimate, Tbma_LA_probs = trellis_bma(ids_trellis,traces,cc.trellis_states[0][0],\\\n",
    "                                                 cc.trellis_states[-1],lookahead = True)\n",
    "        \n",
    "#         bma_errors.append((in_seq != bma_estimate).sum())\n",
    "        \n",
    "        post_mul_errors.append((in_seq != post_mul_estimate).sum())\n",
    "        post_mul_BORs.append(BCJROR(post_mul_probs,in_seq))\n",
    "        \n",
    "#         Tbma_noLA_errors.append((in_seq != Tbma_noLA_estimate).sum())\n",
    "        Tbma_LA_errors.append((in_seq != Tbma_LA_estimate).sum())\n",
    "#         Tbma_noLA_BORs.append(BCJROR(Tbma_noLA_probs, in_seq))\n",
    "        Tbma_LA_BORs.append(BCJROR(Tbma_LA_probs, in_seq))\n",
    "\n",
    "#     errors[\"bma\"].append(np.array(bma_errors))\n",
    "    errors[\"post_mul\"].append(np.array(post_mul_errors))\n",
    "    errors[\"BOR_post_mul\"].append(np.array(post_mul_BORs))\n",
    "#     errors[\"Tbma_noLA\"].append(np.array(Tbma_noLA_errors))\n",
    "    errors[\"Tbma_LA\"].append(np.array(Tbma_LA_errors))\n",
    "#     errors[\"BOR_Tbma_noLA\"].append(np.array(Tbma_noLA_BORs))\n",
    "    errors[\"BOR_Tbma_LA\"].append(np.array(Tbma_LA_BORs))\n",
    "    \n",
    "#     print(\"BMA error rate for a cluster size: \",cluster_size,\"is \",np.array(bma_errors).mean())\n",
    "    print(\"Post multiply error rate for a cluster size: \",cluster_size,\"is \",np.array(post_mul_errors).mean())\n",
    "    print(\"Post multiply BORs for a cluster size: \",cluster_size,\"is \",np.array(post_mul_BORs).mean())\n",
    "#     print(\"Trellis BMA (no LA) error rate for a cluster size: \",cluster_size,\"is \",np.array(Tbma_noLA_errors).mean())\n",
    "    print(\"Trellis BMA (with LA) error rate for a cluster size:\",cluster_size,\"is \",np.array(Tbma_LA_errors).mean())\n",
    "#     print(\"Trellis BMA (no LA) BORs for a cluster size: \",cluster_size,\"is \",np.array(Tbma_noLA_BORs).mean())\n",
    "    print(\"Trellis BMA (with LA) BORs for a cluster size:\",cluster_size,\"is \",np.array(Tbma_LA_BORs).mean())\n",
    "    \n",
    "    time.sleep(0.5)\n",
    "\n",
    "# errors[\"bma\"] = np.array(errors[\"bma\"])\n",
    "errors[\"post_mul\"] = np.array(errors[\"post_mul\"])\n",
    "errors[\"BOR_post_mul\"] = np.array(errors[\"BOR_post_mul\"])\n",
    "errors[\"Tbma_noLA\"] = np.array(errors[\"Tbma_noLA\"])\n",
    "errors[\"Tbma_LA\"] = np.array(errors[\"Tbma_LA\"])\n",
    "errors[\"BOR_Tbma_noLA\"] = np.array(errors[\"BOR_Tbma_noLA\"])\n",
    "errors[\"BOR_Tbma_LA\"] = np.array(errors[\"BOR_Tbma_LA\"])\n",
    "\n",
    "# np.save(\"SavedData/sim_6by11coded_rest.npy\",errors)"
   ]
  },
  {
   "cell_type": "code",
   "execution_count": 3,
   "metadata": {
    "ExecuteTime": {
     "end_time": "2021-01-21T08:10:57.843039Z",
     "start_time": "2021-01-21T08:00:20.747102Z"
    }
   },
   "outputs": [
    {
     "name": "stderr",
     "output_type": "stream",
     "text": [
      "100%|████████████████████████████████████████████████████████████████████████████████| 100/100 [01:13<00:00,  1.36it/s]\n"
     ]
    },
    {
     "name": "stdout",
     "output_type": "stream",
     "text": [
      "Post multiply error rate for a cluster size:  2 is  9.4\n",
      "Post multiply BORs for a cluster size:  2 is  1.6449181138118696\n",
      "Trellis BMA (no LA) error rate for a cluster size:  2 is  30.43\n",
      "Trellis BMA (with LA) error rate for a cluster size: 2 is  9.95\n",
      "Trellis BMA (no LA) BORs for a cluster size:  2 is  -0.07988426271437732\n",
      "Trellis BMA (with LA) BORs for a cluster size: 2 is  1.4128116571218032\n"
     ]
    },
    {
     "name": "stderr",
     "output_type": "stream",
     "text": [
      "100%|████████████████████████████████████████████████████████████████████████████████| 100/100 [01:30<00:00,  1.11it/s]\n"
     ]
    },
    {
     "name": "stdout",
     "output_type": "stream",
     "text": [
      "Post multiply error rate for a cluster size:  3 is  5.85\n",
      "Post multiply BORs for a cluster size:  3 is  1.7747916911664838\n",
      "Trellis BMA (no LA) error rate for a cluster size:  3 is  9.75\n",
      "Trellis BMA (with LA) error rate for a cluster size: 3 is  4.29\n",
      "Trellis BMA (no LA) BORs for a cluster size:  3 is  1.0520339292686505\n",
      "Trellis BMA (with LA) BORs for a cluster size: 3 is  1.6228515245539503\n"
     ]
    },
    {
     "name": "stderr",
     "output_type": "stream",
     "text": [
      "100%|████████████████████████████████████████████████████████████████████████████████| 100/100 [02:56<00:00,  1.77s/it]\n"
     ]
    },
    {
     "name": "stdout",
     "output_type": "stream",
     "text": [
      "Post multiply error rate for a cluster size:  6 is  2.35\n",
      "Post multiply BORs for a cluster size:  6 is  1.8960955891124174\n",
      "Trellis BMA (no LA) error rate for a cluster size:  6 is  1.69\n",
      "Trellis BMA (with LA) error rate for a cluster size: 6 is  0.1\n",
      "Trellis BMA (no LA) BORs for a cluster size:  6 is  1.703111794364914\n",
      "Trellis BMA (with LA) BORs for a cluster size: 6 is  1.9898272641539358\n"
     ]
    },
    {
     "name": "stderr",
     "output_type": "stream",
     "text": [
      "100%|████████████████████████████████████████████████████████████████████████████████| 100/100 [04:54<00:00,  2.94s/it]\n"
     ]
    },
    {
     "name": "stdout",
     "output_type": "stream",
     "text": [
      "Post multiply error rate for a cluster size:  10 is  1.24\n",
      "Post multiply BORs for a cluster size:  10 is  1.9372324979046984\n",
      "Trellis BMA (no LA) error rate for a cluster size:  10 is  0.08\n",
      "Trellis BMA (with LA) error rate for a cluster size: 10 is  0.39\n",
      "Trellis BMA (no LA) BORs for a cluster size:  10 is  1.9904491195410259\n",
      "Trellis BMA (with LA) BORs for a cluster size: 10 is  1.8871739306017203\n"
     ]
    }
   ],
   "source": [
    "max_iters = 50\n",
    "\n",
    "errors = {}\n",
    "errors[\"desc\"] = \"Experiment comparing error rates and IRs on simulated data without coding. \\n\\\n",
    "Algorithms compared: Improved BMALA, Post multiply, Trellis BMA no look-ahead, Trellis BMA with look-ahead.\\n\\\n",
    "\"\n",
    "\n",
    "# errors[\"bma\"] = []\n",
    "errors[\"post_mul\"] = []\n",
    "errors[\"BOR_post_mul\"] = []\n",
    "errors[\"Tbma_noLA\"] = []\n",
    "errors[\"Tbma_LA\"] = []\n",
    "errors[\"BOR_Tbma_noLA\"] = []\n",
    "errors[\"BOR_Tbma_LA\"] = []\n",
    "errors[\"cluster_size\"] = [2,3,6,10]\n",
    "\n",
    "for cluster_size in errors[\"cluster_size\"]:\n",
    "    bma_errors = []\n",
    "    post_mul_errors = []\n",
    "    post_mul_BORs = []\n",
    "    Tbma_noLA_errors = []\n",
    "    Tbma_LA_errors = []\n",
    "    Tbma_noLA_BORs = []\n",
    "    Tbma_LA_BORs = []\n",
    "    \n",
    "    for it in trange(max_iters):\n",
    "#         if len(traces_list[it]) == 0:\n",
    "#             print(\"Encountered empty cluster, ignored it.\")\n",
    "        \n",
    "        in_seq = np.random.choice(4,size = in_len)\n",
    "        coded_seq = cc.encode(in_seq)\n",
    "        \n",
    "        tr_list = []\n",
    "        for j in range(cluster_size):\n",
    "            tr_list.append(ids_trellis.simulate_ids(coded_seq))\n",
    "            \n",
    "        traces = []\n",
    "        for tr in tr_list:\n",
    "            if np.abs(len(tr)-N_cw) <= max_drift:\n",
    "                traces.append(tr)\n",
    "            elif len(tr) > N_cw:\n",
    "                idx_delete = np.random.choice(len(tr),len(tr)-N_cw-max_drift, replace = False)\n",
    "                traces.append(np.delete(tr,idx_delete))\n",
    "            else:\n",
    "                idx_insert = np.random.choice(len(tr),N_cw-max_drift-len(tr), replace = False)\n",
    "                traces.append(np.insert(tr,idx_insert,0))\n",
    "        \n",
    "#         bma_estimate = bmala_imp(N_cw,tr_list,2)\n",
    "        \n",
    "        post_mul_estimate, post_mul_probs = post_multiply(ids_trellis,traces,cc.trellis_states[0][0],\\\n",
    "                                                 cc.trellis_states[-1])\n",
    "        \n",
    "        Tbma_noLA_estimate, Tbma_noLA_probs = trellis_bma(ids_trellis,traces,cc.trellis_states[0][0],\\\n",
    "                                                 cc.trellis_states[-1],lookahead = False)\n",
    "        Tbma_LA_estimate, Tbma_LA_probs = trellis_bma(ids_trellis,traces,cc.trellis_states[0][0],\\\n",
    "                                                 cc.trellis_states[-1],lookahead = True)\n",
    "        \n",
    "#         bma_errors.append((in_seq != bma_estimate).sum())\n",
    "        \n",
    "        post_mul_errors.append((in_seq != post_mul_estimate).sum())\n",
    "        post_mul_BORs.append(BCJROR(post_mul_probs,in_seq))\n",
    "        \n",
    "        Tbma_noLA_errors.append((in_seq != Tbma_noLA_estimate).sum())\n",
    "        Tbma_LA_errors.append((in_seq != Tbma_LA_estimate).sum())\n",
    "        Tbma_noLA_BORs.append(BCJROR(Tbma_noLA_probs, in_seq))\n",
    "        Tbma_LA_BORs.append(BCJROR(Tbma_LA_probs, in_seq))\n",
    "\n",
    "#     errors[\"bma\"].append(np.array(bma_errors))\n",
    "    errors[\"post_mul\"].append(np.array(post_mul_errors))\n",
    "    errors[\"BOR_post_mul\"].append(np.array(post_mul_BORs))\n",
    "    errors[\"Tbma_noLA\"].append(np.array(Tbma_noLA_errors))\n",
    "    errors[\"Tbma_LA\"].append(np.array(Tbma_LA_errors))\n",
    "    errors[\"BOR_Tbma_noLA\"].append(np.array(Tbma_noLA_BORs))\n",
    "    errors[\"BOR_Tbma_LA\"].append(np.array(Tbma_LA_BORs))\n",
    "    \n",
    "#     print(\"BMA error rate for a cluster size: \",cluster_size,\"is \",np.array(bma_errors).mean())\n",
    "    print(\"Post multiply error rate for a cluster size: \",cluster_size,\"is \",np.array(post_mul_errors).mean())\n",
    "    print(\"Post multiply BORs for a cluster size: \",cluster_size,\"is \",np.array(post_mul_BORs).mean())\n",
    "    print(\"Trellis BMA (no LA) error rate for a cluster size: \",cluster_size,\"is \",np.array(Tbma_noLA_errors).mean())\n",
    "    print(\"Trellis BMA (with LA) error rate for a cluster size:\",cluster_size,\"is \",np.array(Tbma_LA_errors).mean())\n",
    "    print(\"Trellis BMA (no LA) BORs for a cluster size: \",cluster_size,\"is \",np.array(Tbma_noLA_BORs).mean())\n",
    "    print(\"Trellis BMA (with LA) BORs for a cluster size:\",cluster_size,\"is \",np.array(Tbma_LA_BORs).mean())\n",
    "    \n",
    "    time.sleep(0.5)\n",
    "\n",
    "# errors[\"bma\"] = np.array(errors[\"bma\"])\n",
    "errors[\"post_mul\"] = np.array(errors[\"post_mul\"])\n",
    "errors[\"BOR_post_mul\"] = np.array(errors[\"BOR_post_mul\"])\n",
    "errors[\"Tbma_noLA\"] = np.array(errors[\"Tbma_noLA\"])\n",
    "errors[\"Tbma_LA\"] = np.array(errors[\"Tbma_LA\"])\n",
    "errors[\"BOR_Tbma_noLA\"] = np.array(errors[\"BOR_Tbma_noLA\"])\n",
    "errors[\"BOR_Tbma_LA\"] = np.array(errors[\"BOR_Tbma_LA\"])\n",
    "\n",
    "# np.save(\"SavedData/sim_6by11coded_rest.npy\",errors)"
   ]
  },
  {
   "cell_type": "code",
   "execution_count": 4,
   "metadata": {
    "ExecuteTime": {
     "end_time": "2021-01-21T08:11:32.600336Z",
     "start_time": "2021-01-21T08:11:32.531334Z"
    },
    "collapsed": true
   },
   "outputs": [
    {
     "data": {
      "text/plain": [
       "array([[ 1.49689572,  1.80048353,  1.89266779,  0.74791203,  1.40063531,\n",
       "         1.9634951 ,  0.99793395,  1.96688495,  1.63122779,  1.95020473,\n",
       "         0.02457578,  1.43026946,  0.50048059,  1.5346318 ,  1.94318597,\n",
       "         1.83634538,  1.53249395,  1.8220799 ,  1.2276679 ,  0.60521188,\n",
       "        -0.81594501,  0.76207164,  1.78948615,  1.19694865,  0.88564428,\n",
       "         1.53873581,  0.63958403,  0.27538666,  1.92818848,  1.60097374,\n",
       "         1.39846652,  1.92791298,  1.95556708,  1.95174396,  1.31017884,\n",
       "         1.92560811,  1.5244865 ,  0.8304638 ,  1.55834623,  1.93865056,\n",
       "         1.80097552,  1.78055886,  1.94492423,  1.95753627,  1.62521633,\n",
       "         1.0616323 ,  1.87544524,  1.87864174,  1.31235834,  0.28254847,\n",
       "         1.92321498,  1.43798349,  1.88207365,  0.85181899,  1.01349355,\n",
       "         0.45478011,  0.52673355,  1.73991538,  1.89979569,  1.94782691,\n",
       "         1.83188049,  1.55302794,  1.60430958,  1.93572664,  1.89507135,\n",
       "         1.9238106 ,  1.88179406,  1.85566121,  1.82760698,  1.7704814 ,\n",
       "         0.83442525,  1.82548438,  0.38086745,  1.86538218,  0.90613667,\n",
       "        -0.07876119,  1.34160239,  1.73358856,  1.90932566,  1.81822884,\n",
       "         1.83475593,  0.68184416,  0.21705062,  1.92544519,  1.75183958,\n",
       "        -0.29846477,  1.93979531,  0.5003354 ,  1.72232724,  1.9677258 ,\n",
       "         1.60068734,  0.02323916,  1.67269624,  1.33499282,  1.67466434,\n",
       "         1.90696607,  1.70957469,  1.95517313,  0.97397132,  1.94563959],\n",
       "       [ 0.43053177,  1.4574171 ,  0.54321534,  0.99550302,  1.36070553,\n",
       "        -0.3783781 ,  0.93819048,  1.99422556,  1.925991  ,  1.97391344,\n",
       "         1.96773063,  1.99936316,  1.13489676,  1.78939941,  1.99626016,\n",
       "         1.97678356,  1.92433224,  1.99565722,  1.98548053,  1.43595142,\n",
       "         1.99650637,  1.94625424,  1.98779711,  1.84994555,  1.99434861,\n",
       "         0.93378401,  1.98131709,  0.73196901,  1.94445042,  1.97376178,\n",
       "         1.97690689,  1.9968154 ,  1.99501907, -1.38540401,  1.96743427,\n",
       "         1.49499636,  1.98740929,  1.99352376,  1.96494162,  1.99504597,\n",
       "         1.9813149 ,  1.98643334,  0.27192395,  1.99024966,  0.35124036,\n",
       "         1.99003498,  1.98642817,  1.511858  ,  1.96304934,  1.31072004,\n",
       "         1.91590963,  1.99176882,  1.96037207,  1.99344977,  1.99872709,\n",
       "         1.82024121,  1.94397542,  1.68442604,  1.9639992 ,  1.99727016,\n",
       "         1.97644956,  1.33431678, -0.52095105,  1.9989167 ,  1.9907525 ,\n",
       "         1.96845135,  1.98922608,  1.97041904,  1.99291706,  1.94875744,\n",
       "         1.48525826,  1.9897081 ,  1.99730721,  0.68207299,  1.97697757,\n",
       "         1.99275182,  0.72733761,  1.9909594 ,  1.98745784,  1.95846325,\n",
       "         1.99071365,  1.98454075,  1.99159523,  1.94046137,  1.94766094,\n",
       "         1.99833511, -0.76272218,  1.99538657,  1.12682514,  1.66578378,\n",
       "         1.99213356,  1.95581562,  1.78547081,  1.17301184,  1.96893918,\n",
       "         0.58065399,  1.97114085,  1.96888357,  1.98090479,  0.20468318],\n",
       "       [ 1.99998599,  1.95210354,  1.99999925,  1.99999672,  1.99999586,\n",
       "         1.99998289,  1.99995994,  1.9924586 ,  1.99999957,  1.99747606,\n",
       "         1.99999385,  1.9999753 ,  1.99997876,  1.99996893,  1.99952255,\n",
       "         1.99986004,  1.99754187,  1.99987416,  1.99991622,  1.99997362,\n",
       "         1.99999975,  1.99998302,  1.99996833,  1.99999097,  1.99999923,\n",
       "         1.99987409,  1.99990188,  1.99996776,  1.99974044,  1.99999173,\n",
       "         1.99982431,  1.99997814,  1.99998719,  1.99997193,  1.99998959,\n",
       "         1.99937646,  1.99999953,  1.99999197,  1.88486472,  1.99995469,\n",
       "         1.99999894,  1.99999806,  1.99999957,  1.99999076,  1.99999684,\n",
       "         1.24777249,  1.99953197,  1.99999139,  1.9999986 ,  1.94461668,\n",
       "         1.99496015,  1.99993716,  1.99372597,  1.99999232,  1.99999984,\n",
       "         1.99998607,  1.99999807,  1.99999569,  1.99999398,  1.99999702,\n",
       "         1.99921785,  1.99998857,  1.99990724,  1.99999834,  1.99985472,\n",
       "         1.99997609,  1.99999842,  1.99960969,  1.99999162,  1.99909705,\n",
       "         1.99999292,  1.99998625,  1.99998048,  1.99999929,  1.9999986 ,\n",
       "         1.99999327,  1.99800905,  1.99792501,  1.99992024,  1.99998392,\n",
       "         1.99999653,  1.99999879,  1.99259894,  1.99999363,  1.99987626,\n",
       "         1.99996334,  1.99997085,  1.99861629,  1.99999644,  1.99999078,\n",
       "         1.99999967,  1.99746485,  1.99997385,  1.99995386,  1.9999527 ,\n",
       "         1.99998627,  1.99980914,  1.99965594,  1.99921388,  1.99988477],\n",
       "       [ 2.        ,  1.99999998,  1.99999999,  2.        ,  1.99999944,\n",
       "         1.99999992,  2.        ,  1.99999999,  2.        ,  2.        ,\n",
       "         1.99999987,  1.99999978,  1.99999639,  1.9999997 ,  1.99999996,\n",
       "         2.        ,  2.        ,  1.99999988,  1.99999986,  2.        ,\n",
       "         1.99999571,  1.99999999,  1.99999999,  1.9999999 ,  1.99999997,\n",
       "         2.        ,  2.        ,  2.        ,  2.        ,  1.99999427,\n",
       "         2.        ,  1.99999702,  1.99999996,  1.99999869,  2.        ,\n",
       "         1.99999955,  2.        ,  1.99999969,  2.        ,  2.        ,\n",
       "         1.99999997,  1.99999795,  1.9996519 ,  1.99999989,  1.99999999,\n",
       "         1.99999999,  2.        ,  1.99999869,  1.99999967,  2.        ,\n",
       "         1.99999971,  2.        ,  1.99999995,  2.        ,  1.99999999,\n",
       "         1.99999978,  1.9999999 ,  2.        ,  1.99999999,  1.99999986,\n",
       "         1.99999999,  2.        ,  2.        , -5.46794431,  1.99999997,\n",
       "         2.        ,  2.        ,  1.99999984,  1.99999998,  2.        ,\n",
       "         1.99999972,  1.99999996,  1.99993107,  2.        ,  2.        ,\n",
       "         2.        ,  2.        ,  1.99999819, -1.81283535,  1.99999984,\n",
       "         1.99999956,  1.99999948,  2.        ,  1.99999999,  2.        ,\n",
       "         1.99999998,  1.99989127,  1.99999973,  2.        ,  2.        ,\n",
       "         1.99999999,  1.99872767,  1.99999997,  2.        ,  2.        ,\n",
       "         1.99999996,  2.        ,  1.99999986,  2.        ,  2.        ]])"
      ]
     },
     "execution_count": 4,
     "metadata": {},
     "output_type": "execute_result"
    }
   ],
   "source": [
    "errors[\"BOR_Tbma_LA\"]"
   ]
  },
  {
   "cell_type": "code",
   "execution_count": null,
   "metadata": {
    "ExecuteTime": {
     "end_time": "2021-01-20T18:27:22.126582Z",
     "start_time": "2021-01-20T18:27:22.055573Z"
    }
   },
   "outputs": [],
   "source": [
    "errors_multiD = np.load(\"SavedData/sim_10coded_multiD.npy\",allow_pickle = True).item()\n",
    "errors_rest = np.load(\"SavedData/sim_10coded_rest.npy\",allow_pickle = True).item()"
   ]
  },
  {
   "cell_type": "code",
   "execution_count": null,
   "metadata": {
    "ExecuteTime": {
     "end_time": "2021-01-20T18:28:10.265448Z",
     "start_time": "2021-01-20T18:28:09.595528Z"
    }
   },
   "outputs": [],
   "source": [
    "make_plot_template(plot_type = \"Information rate\", xlim = (1.5,10.5), ylim = (0,2.1))\n",
    "\n",
    "keys = [\"multiD_AIRs\", \"multiD_BORs\"]\n",
    "label = {}\n",
    "label[\"multiD_AIRs\"] = \"AIRs for multiD\"\n",
    "label[\"multiD_BORs\"] = \"BCJR-OR for multiD\"\n",
    "add_plot(errors_multiD, 110, keys,  label, \"Information rate\")\n",
    "\n",
    "keys = [\"BOR_Tbma_LA\", \"BOR_Tbma_noLA\",\"BOR_post_mul\"]\n",
    "label = {}\n",
    "label[\"BOR_Tbma_noLA\"] = \"BCJR-OR Trellis BMA (no LA)\"\n",
    "label[\"BOR_Tbma_LA\"] = \"BCJR-OR Trellis BMA (LA)\"\n",
    "label[\"BOR_post_mul\"] = \"BCJR-OR Multiply posteriors\"\n",
    "add_plot(errors_rest, 110, keys, label, \"Information rate\")\n",
    "\n",
    "tikzplotlib.save(\"Plots/sim_10coded_IRs.tex\")\n",
    "\n",
    "make_plot_template(plot_type = \"Hamming rate\", xlim = (1,11), ylim = (0,0.3))\n",
    "\n",
    "keys = [\"multiD\"]\n",
    "label = {}\n",
    "label[\"multiD\"] = \"MultiD\"\n",
    "add_plot(errors_multiD, 110, keys,  label, \"Hamming rate\")\n",
    "\n",
    "\n",
    "keys = [\"Tbma_LA\", \"Tbma_noLA\",\"post_mul\"]\n",
    "label = {}\n",
    "label[\"bma\"] = \"BMALA Improved\"\n",
    "label[\"Tbma_noLA\"] = \"Trellis BMA (no LA)\"\n",
    "label[\"Tbma_LA\"] = \"Trellis BMA (LA)\"\n",
    "label[\"post_mul\"] = \"Multiply posteriors\"\n",
    "add_plot(errors_rest, 110, keys,  label, \"Hamming rate\")\n",
    "\n",
    "tikzplotlib.save(\"Plots/sim_10coded.tex\")"
   ]
  },
  {
   "cell_type": "markdown",
   "metadata": {},
   "source": [
    "## Multiprocessing attempt"
   ]
  },
  {
   "cell_type": "code",
   "execution_count": null,
   "metadata": {
    "ExecuteTime": {
     "end_time": "2021-01-21T07:12:04.162458Z",
     "start_time": "2021-01-21T07:09:25.173211Z"
    }
   },
   "outputs": [],
   "source": [
    "max_iters = 160\n",
    "\n",
    "process_per_hyperiter = 16\n",
    "hyperiters = max_iters//process_per_hyperiter\n",
    "max_iters = process_per_hyperiter*hyperiters\n",
    "\n",
    "errors = {}\n",
    "errors[\"desc\"] = \"Experiment comparing error rates and IRs on simulated data without coding. \\n\\\n",
    "Algorithms compared: Improved BMALA, Post multiply, Trellis BMA no look-ahead, Trellis BMA with look-ahead.\\n\\\n",
    "\"\n",
    "\n",
    "errors[\"bma\"] = []\n",
    "errors[\"post_mul\"] = []\n",
    "errors[\"BOR_post_mul\"] = []\n",
    "errors[\"Tbma_noLA\"] = []\n",
    "errors[\"Tbma_LA\"] = []\n",
    "errors[\"BOR_Tbma_noLA\"] = []\n",
    "errors[\"BOR_Tbma_LA\"] = []\n",
    "errors[\"cluster_size\"] = [10]\n",
    "\n",
    "for cluster_size in errors[\"cluster_size\"]:\n",
    "    bma_errors = []\n",
    "    post_mul_errors = []\n",
    "    post_mul_BORs = []\n",
    "    Tbma_noLA_errors = []\n",
    "    Tbma_LA_errors = []\n",
    "    Tbma_noLA_BORs = []\n",
    "    Tbma_LA_BORs = []\n",
    "    \n",
    "    pool1 = Pool(mp.cpu_count())\n",
    "    for it in trange(hyperiters):\n",
    "        \n",
    "        in_seq_list = []\n",
    "        tr_list_list = []\n",
    "        for j in range(process_per_hyperiter):\n",
    "            in_seq = np.random.choice(4,size = in_len)\n",
    "            in_seq_list.append(in_seq)\n",
    "            tr_list = []\n",
    "            for j in range(cluster_size):\n",
    "                tr_list.append(ids_trellis.simulate_ids(in_seq))\n",
    "            tr_list_list.append(tr_list)\n",
    "        \n",
    "        \n",
    "        temp = pool1.starmap(one_iter_rest, zip(repeat(in_len), in_seq_list, tr_list_list,\\\n",
    "                                          repeat(cluster_size), repeat(N_cw), repeat(ids_trellis), repeat(cc)))\n",
    "    pool1.close()\n",
    "#         temp = np.array(temp)\n",
    "#         hamming_error_list[idx,:] += temp.sum(axis = 0)\n",
    "#         if len(traces_list[it]) == 0:\n",
    "#             print(\"Encountered empty cluster, ignored it.\")\n",
    "        \n",
    "        \n",
    "#         (bma_error_, post_mul_error_, Tbma_noLA_error_, Tbma_LA_error_,\\\n",
    "#            post_mul_BOR_,Tbma_noLA_BOR_,Tbma_LA_BOR_) = pool.starmap(one_iter)\n",
    "        \n",
    "#         bma_errors.append((in_seq != bma_estimate).sum())\n",
    "        \n",
    "#         post_mul_errors.append((in_seq != post_mul_estimate).sum())\n",
    "#         post_mul_BORs.append(BCJROR(post_mul_probs,in_seq))\n",
    "        \n",
    "#         Tbma_noLA_errors.append((in_seq != Tbma_noLA_estimate).sum())\n",
    "#         Tbma_LA_errors.append((in_seq != Tbma_LA_estimate).sum())\n",
    "#         Tbma_noLA_BORs.append(BCJROR(Tbma_noLA_probs, in_seq))\n",
    "#         Tbma_LA_BORs.append(BCJROR(Tbma_LA_probs, in_seq))\n",
    "    \n",
    "    \n",
    "#     errors[\"bma\"].append(np.array(bma_errors))\n",
    "#     errors[\"post_mul\"].append(np.array(post_mul_errors))\n",
    "#     errors[\"BOR_post_mul\"].append(np.array(post_mul_BORs))\n",
    "#     errors[\"Tbma_noLA\"].append(np.array(Tbma_noLA_errors))\n",
    "#     errors[\"Tbma_LA\"].append(np.array(Tbma_LA_errors))\n",
    "#     errors[\"BOR_Tbma_noLA\"].append(np.array(Tbma_noLA_BORs))\n",
    "#     errors[\"BOR_Tbma_LA\"].append(np.array(Tbma_LA_BORs))\n",
    "    \n",
    "#     print(\"BMA error rate for a cluster size: \",cluster_size,\"is \",np.array(bma_errors).mean())\n",
    "#     print(\"Post multiply error rate for a cluster size: \",cluster_size,\"is \",np.array(post_mul_errors).mean())\n",
    "#     print(\"Post multiply BORs for a cluster size: \",cluster_size,\"is \",np.array(post_mul_BORs).mean())\n",
    "#     print(\"Trellis BMA (no LA) error rate for a cluster size: \",cluster_size,\"is \",np.array(Tbma_noLA_errors).mean())\n",
    "#     print(\"Trellis BMA (with LA) error rate for a cluster size:\",cluster_size,\"is \",np.array(Tbma_LA_errors).mean())\n",
    "#     print(\"Trellis BMA (no LA) BORs for a cluster size: \",cluster_size,\"is \",np.array(Tbma_noLA_BORs).mean())\n",
    "#     print(\"Trellis BMA (with LA) BORs for a cluster size:\",cluster_size,\"is \",np.array(Tbma_LA_BORs).mean())\n",
    "    \n",
    "    time.sleep(0.5)\n",
    "\n",
    "errors[\"bma\"] = np.array(errors[\"bma\"])\n",
    "errors[\"post_mul\"] = np.array(errors[\"post_mul\"])\n",
    "errors[\"BOR_post_mul\"] = np.array(errors[\"BOR_post_mul\"])\n",
    "errors[\"Tbma_noLA\"] = np.array(errors[\"Tbma_noLA\"])\n",
    "errors[\"Tbma_LA\"] = np.array(errors[\"Tbma_LA\"])\n",
    "errors[\"BOR_Tbma_noLA\"] = np.array(errors[\"BOR_Tbma_noLA\"])\n",
    "errors[\"BOR_Tbma_LA\"] = np.array(errors[\"BOR_Tbma_LA\"])\n",
    "\n",
    "# np.save(\"SavedData/sim_uncoded_rest.npy\",errors)"
   ]
  }
 ],
 "metadata": {
  "kernelspec": {
   "display_name": "Python 3",
   "language": "python",
   "name": "python3"
  },
  "language_info": {
   "codemirror_mode": {
    "name": "ipython",
    "version": 3
   },
   "file_extension": ".py",
   "mimetype": "text/x-python",
   "name": "python",
   "nbconvert_exporter": "python",
   "pygments_lexer": "ipython3",
   "version": "3.8.5"
  },
  "latex_envs": {
   "LaTeX_envs_menu_present": true,
   "autoclose": false,
   "autocomplete": true,
   "bibliofile": "biblio.bib",
   "cite_by": "apalike",
   "current_citInitial": 1,
   "eqLabelWithNumbers": true,
   "eqNumInitial": 1,
   "hotkeys": {
    "equation": "Ctrl-E",
    "itemize": "Ctrl-I"
   },
   "labels_anchors": false,
   "latex_user_defs": false,
   "report_style_numbering": false,
   "user_envs_cfg": false
  },
  "toc": {
   "base_numbering": 1,
   "nav_menu": {},
   "number_sections": true,
   "sideBar": true,
   "skip_h1_title": false,
   "title_cell": "Table of Contents",
   "title_sidebar": "Contents",
   "toc_cell": false,
   "toc_position": {},
   "toc_section_display": true,
   "toc_window_display": false
  }
 },
 "nbformat": 4,
 "nbformat_minor": 2
}
