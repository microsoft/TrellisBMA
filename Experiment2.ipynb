{
 "cells": [
  {
   "cell_type": "markdown",
   "metadata": {},
   "source": [
    "# Experiment 2"
   ]
  },
  {
   "cell_type": "markdown",
   "metadata": {},
   "source": [
    "Compare error rates on **real data** for the following:\n",
    "\n",
    "- 10% redundancy punctured repetition code (coset shifted): Trellis BMA without lookahead vs Trellis BMA with lookahead"
   ]
  },
  {
   "cell_type": "markdown",
   "metadata": {},
   "source": [
    "## Load real data"
   ]
  },
  {
   "cell_type": "code",
   "execution_count": null,
   "metadata": {
    "ExecuteTime": {
     "end_time": "2020-09-08T20:18:17.121458Z",
     "start_time": "2020-09-08T20:16:21.877308Z"
    }
   },
   "outputs": [],
   "source": [
    "import seaborn as sns\n",
    "import numpy as np\n",
    "sns.set()\n",
    "\n",
    "from Levenshtein import distance, editops\n",
    "from scipy.stats import mode\n",
    "from tqdm import trange\n",
    "\n",
    "print(\"Loading data...\")\n",
    "centers_list_chars = []\n",
    "centers_str = []\n",
    "# with open('TrainCenters.txt') as f:\n",
    "with open('DataToProcess/TrainCenters.txt') as f:\n",
    "    for l in f:\n",
    "        centers_list_chars.append(list(l.split()[0]))\n",
    "        centers_str.append(l.split()[0])\n",
    "centers_list_chars = np.array(centers_list_chars)\n",
    "\n",
    "traces_list_chars = []\n",
    "traces_str = []\n",
    "with open('DataToProcess/TrainClusters.txt') as f:\n",
    "    for l in f:\n",
    "        if l[0] == '=':\n",
    "            traces_list_chars.append([])\n",
    "            traces_str.append([])\n",
    "        else:\n",
    "            traces_list_chars[-1].append(np.array(list(l.split()[0])))\n",
    "            traces_str[-1].append(l.split()[0])\n",
    "\n",
    "def map2int(strarray, chars):\n",
    "    maps = {}\n",
    "    for i in range(len(chars)):\n",
    "        maps[chars[i]] = i\n",
    "    intarray = np.zeros_like(strarray, dtype = int)\n",
    "    for i in range(len(strarray)):\n",
    "        intarray[i] = maps[strarray[i]]\n",
    "    return intarray\n",
    "\n",
    "\n",
    "alphabet = ['A','C','G','T']\n",
    "centers_list = []\n",
    "traces_list = []\n",
    "for i in trange(len(centers_list_chars), desc = \"Creating dataset\"):\n",
    "    centers_list.append(map2int(centers_list_chars[i], alphabet))\n",
    "    traces_list.append([])\n",
    "    for j in range(len(traces_list_chars[i])):\n",
    "        traces_list[-1].append(map2int(traces_list_chars[i][j], alphabet))"
   ]
  },
  {
   "cell_type": "code",
   "execution_count": null,
   "metadata": {
    "ExecuteTime": {
     "end_time": "2020-09-08T20:18:17.995548Z",
     "start_time": "2020-09-08T20:18:17.123461Z"
    }
   },
   "outputs": [],
   "source": [
    "from helper_functions import *\n",
    "import pandas as pd\n",
    "import numpy as np\n",
    "from scipy.stats import mode\n",
    "\n",
    "from conv_code import *\n",
    "from coded_ids_multiD import *\n",
    "from bma import *\n",
    "from trellis_bma import *\n",
    "\n",
    "import time\n",
    "\n",
    "import seaborn as sns\n",
    "sns.set()\n",
    "\n",
    "import warnings\n",
    "warnings.filterwarnings(\"ignore\")\n",
    "\n",
    "%load_ext autoreload\n",
    "%autoreload 2"
   ]
  },
  {
   "cell_type": "markdown",
   "metadata": {},
   "source": [
    "## Reverse engineering the code given the codeword and a random input sequence"
   ]
  },
  {
   "cell_type": "code",
   "execution_count": null,
   "metadata": {
    "ExecuteTime": {
     "end_time": "2020-09-08T20:18:35.549109Z",
     "start_time": "2020-09-08T20:18:35.488475Z"
    }
   },
   "outputs": [],
   "source": [
    "in_len = 100\n",
    "N_cw = 110\n",
    "redundancy = N_cw-in_len\n",
    "\n",
    "A_in = 4\n",
    "A_cw = 4\n",
    "\n",
    "num_traces = 1\n",
    "p_del = 0.011\n",
    "p_sub = 0.017\n",
    "p_ins = 0.02\n",
    "max_drift = 10"
   ]
  },
  {
   "cell_type": "code",
   "execution_count": null,
   "metadata": {
    "ExecuteTime": {
     "end_time": "2020-09-08T20:19:06.828701Z",
     "start_time": "2020-09-08T20:18:35.974614Z"
    }
   },
   "outputs": [],
   "source": [
    "# Real data\n",
    "max_iters = 2000\n",
    "\n",
    "errors = {}\n",
    "errors[\"desc\"] = \"Experiment comparing error rates on real data with 10% repetition CC code \\\n",
    "(punctured and coset shifted). \\n\\\n",
    "Algorithms compared: Trellis BMA no look-ahead, Trellis BMA with look-ahead.\\n\\\n",
    "Experiment run on the first {} clusters of the real data.\\\n",
    "\".format(max_iters)\n",
    "\n",
    "errors[\"Tbma_noLA\"] = []\n",
    "errors[\"Tbma_LA\"] = []\n",
    "errors[\"cluster_size\"] = [2,3,4,5,6]\n",
    "\n",
    "for cluster_size in errors[\"cluster_size\"]:\n",
    "    Tbma_noLA_errors = []\n",
    "    Tbma_LA_errors = []\n",
    "    \n",
    "    for it in trange(max_iters):\n",
    "        if len(traces_list[it]) == 0:\n",
    "            print(\"Encountered empty cluster, ignored it.\")\n",
    "        \n",
    "        in_seq = np.random.choice(4,size=in_len)       # first generate a random input sequence\n",
    "        \n",
    "        cc = conv_code()\n",
    "        G = np.array([[1],[1]])\n",
    "        cc.quar_cc(G)\n",
    "        cc.make_trellis(in_len)\n",
    "        cc.puncture(redundancy=redundancy)\n",
    "        cc.make_encoder()\n",
    "        encoded_seq = cc.encode(in_seq)\n",
    "        coset = np.mod(centers_list[it]-encoded_seq,4)   # determine appropriate coset vector \n",
    "        cc.add_coset(coset)\n",
    "        \n",
    "        code_trellis_states = cc.trellis_states\n",
    "        code_trellis_edges = cc.trellis_edges\n",
    "        code_time_type = cc.time_type\n",
    "        \n",
    "        ids_trellis = coded_ids_multiD(A_in, A_cw, code_trellis_states,code_trellis_edges, code_time_type,\\\n",
    "                 num_traces, p_del, p_sub, p_ins, max_drift, input_prior = None)\n",
    "        \n",
    "        tr_list = traces_list[it][:cluster_size]\n",
    "        Tbma_noLA_estimate = trellis_bma(ids_trellis,tr_list,cc.trellis_states[0][0],\\\n",
    "                                                 cc.trellis_states[-1],lookahead = False)\n",
    "        Tbma_LA_estimate = trellis_bma(ids_trellis,tr_list,cc.trellis_states[0][0],\\\n",
    "                                                 cc.trellis_states[-1],lookahead = True)\n",
    "        \n",
    "        Tbma_noLA_errors.append((Tbma_noLA_estimate != in_seq).sum())\n",
    "        Tbma_LA_errors.append((Tbma_LA_estimate != in_seq).sum())\n",
    "\n",
    "    errors[\"Tbma_noLA\"].append(np.array(Tbma_noLA_errors))\n",
    "    errors[\"Tbma_LA\"].append(np.array(Tbma_LA_errors))\n",
    "    \n",
    "    print(\"Trellis BMA (no LA) error rate for a cluster size: \",cluster_size,\"is \",np.array(Tbma_noLA_errors).mean())\n",
    "    print(\"Trellis BMA (with LA) error rate for a cluster size:\",cluster_size,\"is \",np.array(Tbma_LA_errors).mean())\n",
    "    \n",
    "    time.sleep(0.5)\n",
    "\n",
    "errors[\"Tbma_noLA\"] = np.array(errors[\"Tbma_noLA\"])\n",
    "errors[\"Tbma_LA\"] = np.array(errors[\"Tbma_LA\"])\n",
    "\n",
    "np.save(\"SavedData/Exp2.npy\",errors)"
   ]
  },
  {
   "cell_type": "code",
   "execution_count": null,
   "metadata": {},
   "outputs": [],
   "source": []
  }
 ],
 "metadata": {
  "kernelspec": {
   "display_name": "Python 3",
   "language": "python",
   "name": "python3"
  },
  "language_info": {
   "codemirror_mode": {
    "name": "ipython",
    "version": 3
   },
   "file_extension": ".py",
   "mimetype": "text/x-python",
   "name": "python",
   "nbconvert_exporter": "python",
   "pygments_lexer": "ipython3",
   "version": "3.8.5"
  },
  "latex_envs": {
   "LaTeX_envs_menu_present": true,
   "autoclose": false,
   "autocomplete": true,
   "bibliofile": "biblio.bib",
   "cite_by": "apalike",
   "current_citInitial": 1,
   "eqLabelWithNumbers": true,
   "eqNumInitial": 1,
   "hotkeys": {
    "equation": "Ctrl-E",
    "itemize": "Ctrl-I"
   },
   "labels_anchors": false,
   "latex_user_defs": false,
   "report_style_numbering": false,
   "user_envs_cfg": false
  },
  "toc": {
   "base_numbering": 1,
   "nav_menu": {},
   "number_sections": true,
   "sideBar": true,
   "skip_h1_title": false,
   "title_cell": "Table of Contents",
   "title_sidebar": "Contents",
   "toc_cell": false,
   "toc_position": {},
   "toc_section_display": true,
   "toc_window_display": false
  }
 },
 "nbformat": 4,
 "nbformat_minor": 2
}
